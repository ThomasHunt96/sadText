{
  "nbformat": 4,
  "nbformat_minor": 0,
  "metadata": {
    "colab": {
      "name": "2xGRUipynb",
      "provenance": [],
      "collapsed_sections": []
    },
    "kernelspec": {
      "name": "python3",
      "display_name": "Python 3"
    }
  },
  "cells": [
    {
      "cell_type": "code",
      "metadata": {
        "colab_type": "code",
        "id": "VFsV8xTnQumf",
        "colab": {
          "base_uri": "https://localhost:8080/",
          "height": 1000
        },
        "outputId": "f37bc03c-0f73-4ae0-ce76-7f2793a3d4da"
      },
      "source": [
        "!pip install tensorflow-addons\n",
        "!pip install --upgrade tensorflow\n",
        "!pip install --upgrade scikit-learn\n",
        "!pip install -U keras-tuner\n"
      ],
      "execution_count": 1,
      "outputs": [
        {
          "output_type": "stream",
          "text": [
            "Requirement already satisfied: tensorflow-addons in /usr/local/lib/python3.6/dist-packages (0.8.3)\n",
            "Requirement already satisfied: typeguard in /usr/local/lib/python3.6/dist-packages (from tensorflow-addons) (2.7.1)\n",
            "Requirement already up-to-date: tensorflow in /usr/local/lib/python3.6/dist-packages (2.2.0rc2)\n",
            "Requirement already satisfied, skipping upgrade: grpcio>=1.8.6 in /usr/local/lib/python3.6/dist-packages (from tensorflow) (1.27.2)\n",
            "Requirement already satisfied, skipping upgrade: wheel>=0.26; python_version >= \"3\" in /usr/local/lib/python3.6/dist-packages (from tensorflow) (0.34.2)\n",
            "Requirement already satisfied, skipping upgrade: gast==0.3.3 in /usr/local/lib/python3.6/dist-packages (from tensorflow) (0.3.3)\n",
            "Requirement already satisfied, skipping upgrade: numpy<2.0,>=1.16.0 in /usr/local/lib/python3.6/dist-packages (from tensorflow) (1.18.2)\n",
            "Requirement already satisfied, skipping upgrade: protobuf>=3.8.0 in /usr/local/lib/python3.6/dist-packages (from tensorflow) (3.10.0)\n",
            "Requirement already satisfied, skipping upgrade: opt-einsum>=2.3.2 in /usr/local/lib/python3.6/dist-packages (from tensorflow) (3.2.0)\n",
            "Requirement already satisfied, skipping upgrade: tensorboard<2.3.0,>=2.2.0 in /usr/local/lib/python3.6/dist-packages (from tensorflow) (2.2.0)\n",
            "Requirement already satisfied, skipping upgrade: tensorflow-estimator<2.3.0,>=2.2.0rc0 in /usr/local/lib/python3.6/dist-packages (from tensorflow) (2.2.0rc0)\n",
            "Requirement already satisfied, skipping upgrade: google-pasta>=0.1.8 in /usr/local/lib/python3.6/dist-packages (from tensorflow) (0.2.0)\n",
            "Requirement already satisfied, skipping upgrade: astunparse==1.6.3 in /usr/local/lib/python3.6/dist-packages (from tensorflow) (1.6.3)\n",
            "Requirement already satisfied, skipping upgrade: scipy==1.4.1; python_version >= \"3\" in /usr/local/lib/python3.6/dist-packages (from tensorflow) (1.4.1)\n",
            "Requirement already satisfied, skipping upgrade: absl-py>=0.7.0 in /usr/local/lib/python3.6/dist-packages (from tensorflow) (0.9.0)\n",
            "Requirement already satisfied, skipping upgrade: h5py<2.11.0,>=2.10.0 in /usr/local/lib/python3.6/dist-packages (from tensorflow) (2.10.0)\n",
            "Requirement already satisfied, skipping upgrade: keras-preprocessing>=1.1.0 in /usr/local/lib/python3.6/dist-packages (from tensorflow) (1.1.0)\n",
            "Requirement already satisfied, skipping upgrade: wrapt>=1.11.1 in /usr/local/lib/python3.6/dist-packages (from tensorflow) (1.12.1)\n",
            "Requirement already satisfied, skipping upgrade: termcolor>=1.1.0 in /usr/local/lib/python3.6/dist-packages (from tensorflow) (1.1.0)\n",
            "Requirement already satisfied, skipping upgrade: six>=1.12.0 in /usr/local/lib/python3.6/dist-packages (from tensorflow) (1.12.0)\n",
            "Requirement already satisfied, skipping upgrade: setuptools in /usr/local/lib/python3.6/dist-packages (from protobuf>=3.8.0->tensorflow) (46.1.3)\n",
            "Requirement already satisfied, skipping upgrade: werkzeug>=0.11.15 in /usr/local/lib/python3.6/dist-packages (from tensorboard<2.3.0,>=2.2.0->tensorflow) (1.0.1)\n",
            "Requirement already satisfied, skipping upgrade: google-auth-oauthlib<0.5,>=0.4.1 in /usr/local/lib/python3.6/dist-packages (from tensorboard<2.3.0,>=2.2.0->tensorflow) (0.4.1)\n",
            "Requirement already satisfied, skipping upgrade: google-auth<2,>=1.6.3 in /usr/local/lib/python3.6/dist-packages (from tensorboard<2.3.0,>=2.2.0->tensorflow) (1.7.2)\n",
            "Requirement already satisfied, skipping upgrade: markdown>=2.6.8 in /usr/local/lib/python3.6/dist-packages (from tensorboard<2.3.0,>=2.2.0->tensorflow) (3.2.1)\n",
            "Requirement already satisfied, skipping upgrade: tensorboard-plugin-wit>=1.6.0 in /usr/local/lib/python3.6/dist-packages (from tensorboard<2.3.0,>=2.2.0->tensorflow) (1.6.0.post2)\n",
            "Requirement already satisfied, skipping upgrade: requests<3,>=2.21.0 in /usr/local/lib/python3.6/dist-packages (from tensorboard<2.3.0,>=2.2.0->tensorflow) (2.21.0)\n",
            "Requirement already satisfied, skipping upgrade: requests-oauthlib>=0.7.0 in /usr/local/lib/python3.6/dist-packages (from google-auth-oauthlib<0.5,>=0.4.1->tensorboard<2.3.0,>=2.2.0->tensorflow) (1.3.0)\n",
            "Requirement already satisfied, skipping upgrade: rsa<4.1,>=3.1.4 in /usr/local/lib/python3.6/dist-packages (from google-auth<2,>=1.6.3->tensorboard<2.3.0,>=2.2.0->tensorflow) (4.0)\n",
            "Requirement already satisfied, skipping upgrade: cachetools<3.2,>=2.0.0 in /usr/local/lib/python3.6/dist-packages (from google-auth<2,>=1.6.3->tensorboard<2.3.0,>=2.2.0->tensorflow) (3.1.1)\n",
            "Requirement already satisfied, skipping upgrade: pyasn1-modules>=0.2.1 in /usr/local/lib/python3.6/dist-packages (from google-auth<2,>=1.6.3->tensorboard<2.3.0,>=2.2.0->tensorflow) (0.2.8)\n",
            "Requirement already satisfied, skipping upgrade: idna<2.9,>=2.5 in /usr/local/lib/python3.6/dist-packages (from requests<3,>=2.21.0->tensorboard<2.3.0,>=2.2.0->tensorflow) (2.8)\n",
            "Requirement already satisfied, skipping upgrade: chardet<3.1.0,>=3.0.2 in /usr/local/lib/python3.6/dist-packages (from requests<3,>=2.21.0->tensorboard<2.3.0,>=2.2.0->tensorflow) (3.0.4)\n",
            "Requirement already satisfied, skipping upgrade: urllib3<1.25,>=1.21.1 in /usr/local/lib/python3.6/dist-packages (from requests<3,>=2.21.0->tensorboard<2.3.0,>=2.2.0->tensorflow) (1.24.3)\n",
            "Requirement already satisfied, skipping upgrade: certifi>=2017.4.17 in /usr/local/lib/python3.6/dist-packages (from requests<3,>=2.21.0->tensorboard<2.3.0,>=2.2.0->tensorflow) (2019.11.28)\n",
            "Requirement already satisfied, skipping upgrade: oauthlib>=3.0.0 in /usr/local/lib/python3.6/dist-packages (from requests-oauthlib>=0.7.0->google-auth-oauthlib<0.5,>=0.4.1->tensorboard<2.3.0,>=2.2.0->tensorflow) (3.1.0)\n",
            "Requirement already satisfied, skipping upgrade: pyasn1>=0.1.3 in /usr/local/lib/python3.6/dist-packages (from rsa<4.1,>=3.1.4->google-auth<2,>=1.6.3->tensorboard<2.3.0,>=2.2.0->tensorflow) (0.4.8)\n",
            "Requirement already up-to-date: scikit-learn in /usr/local/lib/python3.6/dist-packages (0.22.2.post1)\n",
            "Requirement already satisfied, skipping upgrade: numpy>=1.11.0 in /usr/local/lib/python3.6/dist-packages (from scikit-learn) (1.18.2)\n",
            "Requirement already satisfied, skipping upgrade: joblib>=0.11 in /usr/local/lib/python3.6/dist-packages (from scikit-learn) (0.14.1)\n",
            "Requirement already satisfied, skipping upgrade: scipy>=0.17.0 in /usr/local/lib/python3.6/dist-packages (from scikit-learn) (1.4.1)\n",
            "Collecting keras-tuner\n",
            "\u001b[?25l  Downloading https://files.pythonhosted.org/packages/a7/f7/4b41b6832abf4c9bef71a664dc563adb25afc5812831667c6db572b1a261/keras-tuner-1.0.1.tar.gz (54kB)\n",
            "\u001b[K     |████████████████████████████████| 61kB 2.0MB/s \n",
            "\u001b[?25hRequirement already satisfied, skipping upgrade: future in /usr/local/lib/python3.6/dist-packages (from keras-tuner) (0.16.0)\n",
            "Requirement already satisfied, skipping upgrade: numpy in /usr/local/lib/python3.6/dist-packages (from keras-tuner) (1.18.2)\n",
            "Requirement already satisfied, skipping upgrade: tabulate in /usr/local/lib/python3.6/dist-packages (from keras-tuner) (0.8.7)\n",
            "Collecting terminaltables\n",
            "  Downloading https://files.pythonhosted.org/packages/9b/c4/4a21174f32f8a7e1104798c445dacdc1d4df86f2f26722767034e4de4bff/terminaltables-3.1.0.tar.gz\n",
            "Collecting colorama\n",
            "  Downloading https://files.pythonhosted.org/packages/c9/dc/45cdef1b4d119eb96316b3117e6d5708a08029992b2fee2c143c7a0a5cc5/colorama-0.4.3-py2.py3-none-any.whl\n",
            "Requirement already satisfied, skipping upgrade: tqdm in /usr/local/lib/python3.6/dist-packages (from keras-tuner) (4.38.0)\n",
            "Requirement already satisfied, skipping upgrade: requests in /usr/local/lib/python3.6/dist-packages (from keras-tuner) (2.21.0)\n",
            "Requirement already satisfied, skipping upgrade: scipy in /usr/local/lib/python3.6/dist-packages (from keras-tuner) (1.4.1)\n",
            "Requirement already satisfied, skipping upgrade: scikit-learn in /usr/local/lib/python3.6/dist-packages (from keras-tuner) (0.22.2.post1)\n",
            "Requirement already satisfied, skipping upgrade: certifi>=2017.4.17 in /usr/local/lib/python3.6/dist-packages (from requests->keras-tuner) (2019.11.28)\n",
            "Requirement already satisfied, skipping upgrade: idna<2.9,>=2.5 in /usr/local/lib/python3.6/dist-packages (from requests->keras-tuner) (2.8)\n",
            "Requirement already satisfied, skipping upgrade: chardet<3.1.0,>=3.0.2 in /usr/local/lib/python3.6/dist-packages (from requests->keras-tuner) (3.0.4)\n",
            "Requirement already satisfied, skipping upgrade: urllib3<1.25,>=1.21.1 in /usr/local/lib/python3.6/dist-packages (from requests->keras-tuner) (1.24.3)\n",
            "Requirement already satisfied, skipping upgrade: joblib>=0.11 in /usr/local/lib/python3.6/dist-packages (from scikit-learn->keras-tuner) (0.14.1)\n",
            "Building wheels for collected packages: keras-tuner, terminaltables\n",
            "  Building wheel for keras-tuner (setup.py) ... \u001b[?25l\u001b[?25hdone\n",
            "  Created wheel for keras-tuner: filename=keras_tuner-1.0.1-cp36-none-any.whl size=73200 sha256=1727621ed3c22913dd2261c36bc6f2ec4b3cd2ee3817ca001b76a12f7f424517\n",
            "  Stored in directory: /root/.cache/pip/wheels/b9/cc/62/52716b70dd90f3db12519233c3a93a5360bc672da1a10ded43\n",
            "  Building wheel for terminaltables (setup.py) ... \u001b[?25l\u001b[?25hdone\n",
            "  Created wheel for terminaltables: filename=terminaltables-3.1.0-cp36-none-any.whl size=15356 sha256=958f65607cc8a72db108489b4bc042916450118de03c4f1a4a55e589a76d2c3a\n",
            "  Stored in directory: /root/.cache/pip/wheels/30/6b/50/6c75775b681fb36cdfac7f19799888ef9d8813aff9e379663e\n",
            "Successfully built keras-tuner terminaltables\n",
            "Installing collected packages: terminaltables, colorama, keras-tuner\n",
            "Successfully installed colorama-0.4.3 keras-tuner-1.0.1 terminaltables-3.1.0\n"
          ],
          "name": "stdout"
        }
      ]
    },
    {
      "cell_type": "code",
      "metadata": {
        "id": "_u4iQKVY0sDd",
        "colab_type": "code",
        "colab": {
          "base_uri": "https://localhost:8080/",
          "height": 35
        },
        "outputId": "6a8ed5a3-03be-4a3d-ad7e-539829416dff"
      },
      "source": [
        "import tensorflow as tf\n",
        "from tensorflow import keras\n",
        "import tensorflow_addons as tfa\n",
        "from tensorflow.keras import Model\n",
        "from tensorflow.keras import layers\n",
        "from tensorflow.keras.preprocessing.text import Tokenizer\n",
        "from tensorflow.keras.preprocessing.sequence import pad_sequences\n",
        "from tensorflow.keras.utils import to_categorical\n",
        "from tensorflow.keras.models import Sequential\n",
        "from tensorflow.keras.layers import Input,Dense,Dropout,Embedding,LSTM,Bidirectional,Flatten,Conv1D,Reshape, TimeDistributed,Reshape,Activation,Dot,MaxPool1D,GlobalMaxPool1D,GRU,concatenate,GlobalAveragePooling1D\n",
        "import numpy as np\n",
        "import pandas as pd\n",
        "import matplotlib.pyplot as plt\n",
        "import io\n",
        "from google.colab import files\n",
        "from google.colab import drive\n",
        "from numpy import array\n",
        "from numpy import asarray\n",
        "from numpy import zeros\n",
        "from numpy import random as random\n",
        "import keras\n",
        "import keras.backend as K\n",
        "import gensim\n",
        "from sklearn.metrics import accuracy_score, precision_score, recall_score, f1_score, classification_report"
      ],
      "execution_count": 6,
      "outputs": [
        {
          "output_type": "stream",
          "text": [
            "Using TensorFlow backend.\n"
          ],
          "name": "stderr"
        }
      ]
    },
    {
      "cell_type": "code",
      "metadata": {
        "id": "g4WVHISqw9I0",
        "colab_type": "code",
        "colab": {
          "resources": {
            "http://localhost:8080/nbextensions/google.colab/files.js": {
              "data": "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",
              "ok": true,
              "headers": [
                [
                  "content-type",
                  "application/javascript"
                ]
              ],
              "status": 200,
              "status_text": "OK"
            }
          },
          "base_uri": "https://localhost:8080/",
          "height": 59
        },
        "outputId": "5bbe0595-e1f3-436a-b793-bed11b220ecf"
      },
      "source": [
        "from google.colab import drive\n",
        "drive.mount('/content/drive')\n",
        "uploaded = files.upload()"
      ],
      "execution_count": 7,
      "outputs": [
        {
          "output_type": "stream",
          "text": [
            "Drive already mounted at /content/drive; to attempt to forcibly remount, call drive.mount(\"/content/drive\", force_remount=True).\n"
          ],
          "name": "stdout"
        },
        {
          "output_type": "display_data",
          "data": {
            "text/html": [
              "\n",
              "     <input type=\"file\" id=\"files-1a8d7f61-5429-4c12-8f53-86b1c710b94b\" name=\"files[]\" multiple disabled />\n",
              "     <output id=\"result-1a8d7f61-5429-4c12-8f53-86b1c710b94b\">\n",
              "      Upload widget is only available when the cell has been executed in the\n",
              "      current browser session. Please rerun this cell to enable.\n",
              "      </output>\n",
              "      <script src=\"/nbextensions/google.colab/files.js\"></script> "
            ],
            "text/plain": [
              "<IPython.core.display.HTML object>"
            ]
          },
          "metadata": {
            "tags": []
          }
        }
      ]
    },
    {
      "cell_type": "code",
      "metadata": {
        "id": "0ES0XZAQQSls",
        "colab_type": "code",
        "colab": {}
      },
      "source": [
        "f = '/content/drive/My Drive/sadTextv3 - sadTextv3.csv'\n",
        "df = pd.read_csv(f, sep=',', error_bad_lines=False)\n",
        "df = df[df['text'].notnull()]"
      ],
      "execution_count": 0,
      "outputs": []
    },
    {
      "cell_type": "code",
      "metadata": {
        "id": "nzSUoj7G7AEU",
        "colab_type": "code",
        "colab": {}
      },
      "source": [
        "df[\"text\"] = df[\"text\"].str.lower()\n",
        "input_sentences = [text.split(\" \") for text in df[\"text\"].values.tolist()]\n",
        "labels = df[\"emotion\"].values.tolist()"
      ],
      "execution_count": 0,
      "outputs": []
    },
    {
      "cell_type": "code",
      "metadata": {
        "id": "lzellLoaM-1Y",
        "colab_type": "code",
        "colab": {
          "base_uri": "https://localhost:8080/",
          "height": 127
        },
        "outputId": "a7da4e7b-efe3-4bd4-e623-5270662031a4"
      },
      "source": [
        "word2id=dict()\n",
        "label2id=dict()\n",
        "max_words = 0\n",
        "\n",
        "for sentence in input_sentences:\n",
        "  for word in sentence:\n",
        "    word = word.replace(\".\",\"\")\n",
        "    if word not in word2id:\n",
        "      word2id[word] = len(word2id)\n",
        "\n",
        "    if len(sentence) > max_words:\n",
        "      max_words = len(sentence)\n",
        "\n",
        "label2id = {l: i for i, l in enumerate(set(labels))}\n",
        "id2label = {v:k for k, v in label2id.items()}\n",
        "id2label\n"
      ],
      "execution_count": 16,
      "outputs": [
        {
          "output_type": "execute_result",
          "data": {
            "text/plain": [
              "{0: 'sadness',\n",
              " 1: 'shame',\n",
              " 2: 'suffering',\n",
              " 3: 'neglect',\n",
              " 4: 'sympathy',\n",
              " 5: 'disappointment'}"
            ]
          },
          "metadata": {
            "tags": []
          },
          "execution_count": 16
        }
      ]
    },
    {
      "cell_type": "code",
      "metadata": {
        "id": "aPNCShbHNwpU",
        "colab_type": "code",
        "outputId": "cde09e25-b9b8-4a80-9f90-e36eaca95a08",
        "colab": {
          "base_uri": "https://localhost:8080/",
          "height": 110
        }
      },
      "source": [
        "#Encoding Sentences\n",
        "from tensorflow.keras.preprocessing.text import Tokenizer\n",
        "from tensorflow.keras.preprocessing.sequence import pad_sequences\n",
        "from tensorflow.keras.utils import to_categorical\n",
        "Y = [label2id[label] for label in labels]\n",
        "t = Tokenizer()\n",
        "t.fit_on_texts(input_sentences)\n",
        "vocab_size = len(t.word_index)+1\n",
        "print(vocab_size)\n",
        "\n",
        "encoded_data = t.texts_to_sequences(input_sentences)\n",
        "padded_data = pad_sequences(encoded_data, max_words)\n",
        "Y = to_categorical(Y, num_classes=len(label2id), dtype='float32')\n",
        "print(\"Shape of X: {}\".format(padded_data.shape))\n",
        "print(\"Shape of Y: {}\".format(Y.shape))\n",
        "print(t.word_index)"
      ],
      "execution_count": 17,
      "outputs": [
        {
          "output_type": "stream",
          "text": [
            "2008\n",
            "Shape of X: (878, 57)\n",
            "Shape of Y: (878, 6)\n",
            "{'i': 1, 'to': 2, 'and': 3, 'my': 4, 'the': 5, 'me': 6, 'a': 7, 'of': 8, 'that': 9, 'it': 10, 'but': 11, 'just': 12, 'in': 13, 'for': 14, 'is': 15, 'have': 16, 'feel': 17, 'this': 18, 'like': 19, 'so': 20, 'you': 21, 'with': 22, 'was': 23, \"i'm\": 24, 'not': 25, 'be': 26, 'want': 27, 'all': 28, 'im': 29, 'no': 30, 'life': 31, 'do': 32, 'about': 33, 'even': 34, 'myself': 35, 'how': 36, 'because': 37, 'or': 38, 'dont': 39, 'time': 40, 'now': 41, 'at': 42, \"don't\": 43, 'on': 44, 'never': 45, 'can': 46, 'he': 47, 'when': 48, 'they': 49, 'know': 50, 'really': 51, 'am': 52, 'as': 53, 'people': 54, 'being': 55, 'her': 56, 'if': 57, 'would': 58, 'out': 59, 'one': 60, 'get': 61, 'had': 62, 'from': 63, \"can't\": 64, 'we': 65, 'been': 66, 'depression': 67, 'up': 68, 'what': 69, 'its': 70, 'she': 71, 'much': 72, 'only': 73, 'are': 74, 'anything': 75, 'could': 76, 'them': 77, 'nothing': 78, 'alone': 79, 'cant': 80, 'has': 81, 'help': 82, 'him': 83, 'more': 84, 'go': 85, 'someone': 86, 'then': 87, 'who': 88, 'friends': 89, 'think': 90, 'too': 91, 'shit': 92, 'day': 93, 'depressed': 94, \"i've\": 95, 'will': 96, 'still': 97, 'anymore': 98, 'tell': 99, 'things': 100, 'an': 101, 'see': 102, 'anyone': 103, 'everything': 104, 'going': 105, 'by': 106, 'always': 107, 'good': 108, 'feeling': 109, 'here': 110, 'back': 111, 'bad': 112, 'any': 113, 'every': 114, 'why': 115, 'living': 116, 'way': 117, 'need': 118, 'person': 119, 'wish': 120, 'love': 121, 'very': 122, 'better': 123, 'there': 124, 'years': 125, 'ive': 126, 'point': 127, 'since': 128, 'talk': 129, 'make': 130, 'anxiety': 131, 'work': 132, \"it's\": 133, 'again': 134, 'around': 135, 'than': 136, 'something': 137, 'hard': 138, 'left': 139, 'their': 140, 'thoughts': 141, 'ever': 142, 'some': 143, 'try': 144, 'fucking': 145, 'cry': 146, 'end': 147, 'family': 148, 'say': 149, 'kill': 150, 'makes': 151, 'after': 152, 'thing': 153, 'understand': 154, 'said': 155, 'find': 156, 'told': 157, 'everyone': 158, 'having': 159, 'trying': 160, 'doing': 161, 'care': 162, 'into': 163, 'take': 164, 'does': 165, 'made': 166, 'over': 167, 'stop': 168, 'without': 169, 'got': 170, 'home': 171, 'die': 172, 'other': 173, 'days': 174, 'your': 175, 'friend': 176, 'sad': 177, 'most': 178, 'own': 179, 'enough': 180, 'were': 181, 'down': 182, 'through': 183, 'happy': 184, 'before': 185, 'off': 186, 'completely': 187, 'long': 188, 'getting': 189, 'constantly': 190, 'tired': 191, 'job': 192, 'mental': 193, 'though': 194, 'felt': 195, 'these': 196, 'our': 197, 'sleep': 198, 'right': 199, 'little': 200, 'last': 201, 'else': 202, 'didnt': 203, 'mother': 204, 'sadness': 205, 'sometimes': 206, 'literally': 207, 'whole': 208, 'sucks': 209, 'worse': 210, 'lot': 211, 'while': 212, \"haven't\": 213, 'suicidal': 214, 'miss': 215, 'give': 216, 'lost': 217, 'health': 218, 'us': 219, 'thought': 220, 'able': 221, 'best': 222, 'mom': 223, 'feelings': 224, 'where': 225, 'inside': 226, 'gone': 227, 'making': 228, 'selfish': 229, 'yet': 230, 'hope': 231, 'kind': 232, 'his': 233, 'live': 234, 'stay': 235, 'mind': 236, 'doesnt': 237, 'thats': 238, 'support': 239, 'part': 240, 'worst': 241, \"doesn't\": 242, 'used': 243, 'hate': 244, 'year': 245, 'went': 246, 'same': 247, 'seems': 248, 'body': 249, 'school': 250, \"i'll\": 251, 'world': 252, 'let': 253, \"didn't\": 254, 'wanted': 255, 'pain': 256, 'look': 257, 'maybe': 258, 'leave': 259, 'read': 260, 'should': 261, 'away': 262, 'crying': 263, 'past': 264, 'until': 265, 'reason': 266, 'stupid': 267, 'actually': 268, 'barely': 269, 'keep': 270, 'far': 271, 'rest': 272, 'wasnt': 273, 'ill': 274, 'come': 275, 'ago': 276, 'died': 277, 'close': 278, 'everyday': 279, 'terrible': 280, 'fact': 281, 'first': 282, 'handle': 283, 'tried': 284, 'horrible': 285, 'half': 286, 'matter': 287, 'real': 288, 'thank': 289, 'yourself': 290, 'fuck': 291, 'two': 292, 'spent': 293, 'times': 294, \"that's\": 295, 'bed': 296, 'week': 297, 'truly': 298, 'parents': 299, 'night': 300, 'feels': 301, 'eat': 302, 'done': 303, 'death': 304, 'also': 305, 'longer': 306, 'least': 307, 'already': 308, 'wanna': 309, 'started': 310, 'stuff': 311, 'house': 312, 'talking': 313, 'might': 314, 'stuck': 315, 'head': 316, 'probably': 317, 'almost': 318, 'another': 319, 'youre': 320, 'dad': 321, 'father': 322, 'lying': 323, 'months': 324, 'single': 325, 'problems': 326, 'scared': 327, 'remember': 328, 'self': 329, 'mean': 330, 'struggling': 331, 'helping': 332, 'few': 333, 'fair': 334, 'thinking': 335, 'normal': 336, 'telling': 337, 'awful': 338, 'games': 339, 'play': 340, 'panic': 341, 'finally': 342, 'theres': 343, 'id': 344, 'worry': 345, 'working': 346, 'please': 347, \"you're\": 348, 'put': 349, \"he's\": 350, 'dying': 351, 'happiness': 352, 'suicide': 353, 'which': 354, 'mentally': 355, 'treated': 356, 'expect': 357, 'sick': 358, 'hear': 359, 'enjoy': 360, 'ex': 361, 'dark': 362, 'empty': 363, 'starting': 364, 'broken': 365, 'lonely': 366, 'born': 367, 'motivation': 368, 'pretty': 369, 'worth': 370, 'use': 371, 'hopeless': 372, 'place': 373, 'honestly': 374, 'month': 375, 'taking': 376, 'food': 377, 'money': 378, 'gonna': 379, 'reasons': 380, '2': 381, 'except': 382, 'absolutely': 383, 'okay': 384, 'social': 385, 'country': 386, 'problem': 387, 'post': 388, 'start': 389, 'old': 390, 'keeps': 391, 'exhausting': 392, 'moment': 393, 'thanks': 394, 'video': 395, 'weeks': 396, 'sorry': 397, 'together': 398, 'quarantine': 399, 'wouldnt': 400, 'next': 401, 'mad': 402, 'attack': 403, 'constant': 404, 'fun': 405, 'lately': 406, 'hurt': 407, \"there's\": 408, 'alive': 409, 'movie': 410, 'happen': 411, 'chance': 412, 'screaming': 413, 'full': 414, \"someone's\": 415, \"they're\": 416, 'girlfriend': 417, 'cares': 418, 'shes': 419, 'poor': 420, 'side': 421, 'emotions': 422, 'couldnt': 423, 'true': 424, 'watching': 425, 'behind': 426, 'seem': 427, 'language': 428, 'skills': 429, 'face': 430, 'hand': 431, 'pathetic': 432, 'college': 433, 'easier': 434, 'lazy': 435, 'energy': 436, 'once': 437, 'deserve': 438, 'miserable': 439, 'spending': 440, 'such': 441, 'outside': 442, 'sister': 443, 'knowing': 444, 'shitty': 445, 'afraid': 446, 'heart': 447, 'suddenly': 448, 'guess': 449, \"won't\": 450, 'turned': 451, 'saying': 452, 'cause': 453, 'sitting': 454, 'says': 455, 'advice': 456, 'imagine': 457, 'others': 458, 'save': 459, 'learn': 460, 'uni': 461, 'either': 462, \"i'd\": 463, 'cannot': 464, 'control': 465, 'different': 466, 'despite': 467, 'well': 468, 'knows': 469, 'interest': 470, 'idea': 471, 'sure': 472, \"she's\": 473, 'move': 474, 'continue': 475, 'free': 476, 'room': 477, 'exhausted': 478, 'came': 479, 'purpose': 480, 'virus': 481, 'talked': 482, 'open': 483, 'fine': 484, 'apart': 485, 'become': 486, 'deal': 487, 'simply': 488, 'giving': 489, 'ass': 490, 'each': 491, 'kept': 492, 'stand': 493, 'listening': 494, 'falling': 495, 'nice': 496, 'idiot': 497, 'killing': 498, 'ended': 499, 'experience': 500, 'system': 501, 'hours': 502, '72': 503, 'hour': 504, 'hold': 505, 'hospital': 506, 'second': 507, 'hearing': 508, 'hates': 509, 'dead': 510, 'noticed': 511, 'brain': 512, 'emotionally': 513, 'low': 514, 'strong': 515, 'physically': 516, \"aren't\": 517, 'relationship': 518, 'pool': 519, 'happens': 520, 'moved': 521, 'waiting': 522, 'human': 523, 'girls': 524, 'high': 525, 'girl': 526, \"shouldn't\": 527, 'loved': 528, 'excuse': 529, 'reality': 530, 'turn': 531, 'loving': 532, \"would've\": 533, 'gave': 534, 'child': 535, 'entire': 536, \"wasn't\": 537, 'breaking': 538, 'broke': 539, 'pay': 540, 'safe': 541, 'spend': 542, 'boyfriend': 543, 'deep': 544, 'especially': 545, 'someday': 546, 'chest': 547, 'nobody': 548, 'burden': 549, 'coming': 550, 'society': 551, 'became': 552, 'equate': 553, 'failure': 554, 'less': 555, 'escape': 556, 'comment': 557, 'upvote': 558, 'hell': 559, 'posted': 560, 'posts': 561, 'usually': 562, 'guy': 563, 'instead': 564, 'issues': 565, 'themselves': 566, 'total': 567, 'cutting': 568, 'etc': 569, 'highschool': 570, 'seriously': 571, 'class': 572, 'appreciate': 573, 'wrong': 574, 'watch': 575, 'negative': 576, 'many': 577, 'afford': 578, 'break': 579, 'mum': 580, 'gets': 581, 'brave': 582, 'hide': 583, 'cried': 584, 'words': 585, 'weight': 586, 'realize': 587, 'happier': 588, 'future': 589, 'difference': 590, 'everybody': 591, 'finding': 592, 'sense': 593, 'decision': 594, 'suffering': 595, 'believe': 596, 'diagnosed': 597, 'suffer': 598, 'illness': 599, 'therapy': 600, 'lay': 601, 'near': 602, 'eating': 603, 'wanting': 604, 'text': 605, 'call': 606, 'hes': 607, 'upset': 608, 'genuinely': 609, 'studying': 610, 'kids': 611, 'held': 612, \"what's\": 613, 'fragile': 614, 'called': 615, 'ending': 616, 'ashamed': 617, 'return': 618, 'begging': 619, 'drunk': 620, 'downstairs': 621, 'doctors': 622, 'ruined': 623, 'ok': 624, 'pc': 625, 'thinks': 626, 'blame': 627, 'breath': 628, 'worried': 629, 'those': 630, 'important': 631, 'trapped': 632, 'lie': 633, 'laughing': 634, 'group': 635, 'brings': 636, 'quit': 637, 'frustrated': 638, 'attempts': 639, 'final': 640, 'missed': 641, 'planned': 642, 'story': 643, 'treatment': 644, 'crisis': 645, 'patients': 646, 'stressed': 647, 'lack': 648, 'process': 649, '5': 650, 'willing': 651, 'financially': 652, 'joke': 653, 'positive': 654, 'both': 655, 'stopped': 656, 'found': 657, 'deeply': 658, 'growing': 659, 'insane': 660, 'joy': 661, 'interests': 662, 'hobbies': 663, 'pointless': 664, 'bring': 665, 'fear': 666, 'socially': 667, 'awkward': 668, 'physical': 669, 'woman': 670, 'god': 671, 'weak': 672, 'meaningless': 673, 'personal': 674, 'fault': 675, 'smoking': 676, 'himself': 677, 'treat': 678, 'repeatedly': 679, 'convince': 680, 'accept': 681, 'stealing': 682, 'taxes': 683, '10': 684, 'saved': 685, 'raped': 686, 'disgust': 687, 'repeat': 688, 'forward': 689, 'sit': 690, 'car': 691, 'smoke': 692, 'unhappy': 693, 'wasted': 694, 'tries': 695, 'realizing': 696, 'wants': 697, 'goodbye': 698, \"you've\": 699, 'given': 700, 'did': 701, 'somehow': 702, 'destroy': 703, 'fucked': 704, 'learned': 705, 'personality': 706, 'recently': 707, 'couple': 708, 'wasting': 709, \"everyone's\": 710, 'absolute': 711, 'emotional': 712, 'response': 713, 'starving': 714, 'promise': 715, 'theyre': 716, 'condition': 717, 'advanced': 718, 'driving': 719, 'reply': 720, 'besides': 721, 'soon': 722, 'anhedonia': 723, 'drive': 724, 'older': 725, 'minimum': 726, 'exercise': 727, 'attempt': 728, 'fail': 729, 'roommates': 730, 'dry': 731, 'picked': 732, 'classes': 733, 'whatever': 734, 'kid': 735, 'focus': 736, 'ignorant': 737, 'soul': 738, 'push': 739, 'nowhere': 740, 'ones': 741, 'havent': 742, 'prove': 743, 'characters': 744, 'exist': 745, 'hated': 746, 'during': 747, 'heard': 748, 'seeing': 749, 'saw': 750, 'forget': 751, 'wake': 752, 'changing': 753, 'hug': 754, 'needed': 755, 'edit': 756, 'beautiful': 757, 'helped': 758, 'encouraging': 759, 'losing': 760, 'walls': 761, 'goes': 762, 'stronger': 763, 'huge': 764, 'state': 765, 'shut': 766, 'phone': 767, 'reddit': 768, 'run': 769, 'supposed': 770, 'boys': 771, 'boring': 772, 'moving': 773, 'dread': 774, 'suffocating': 775, 'useless': 776, 'piece': 777, 'fat': 778, 'ruin': 779, 'finish': 780, 'dumb': 781, 'top': 782, 'man': 783, 'english': 784, 'exact': 785, 'complicated': 786, 'dealing': 787, 'disorder': 788, 'attacks': 789, 'numb': 790, 'tv': 791, 'shows': 792, 'insulting': 793, 'obviously': 794, 'exists': 795, 'sessions': 796, 'december': 797, 'responsibility': 798, 'average': 799, 'wait': 800, 'brother': 801, 'reach': 802, 'surrounding': 803, 'looked': 804, 'ask': 805, 'decided': 806, 'youve': 807, 'emotionless': 808, 'trash': 809, 'pandemic': 810, 'crap': 811, 'forced': 812, 'hurts': 813, 'oh': 814, 'freaking': 815, 'looking': 816, 'force': 817, 'pretending': 818, 'weird': 819, 'police': 820, 'card': 821, 'spiritual': 822, 'breaks': 823, 'tears': 824, 'front': 825, 'stressing': 826, 'reads': 827, 'writing': 828, 'shake': 829, 'worthless': 830, 'reading': 831, 'share': 832, 'connect': 833, 'ability': 834, 'pains': 835, 'chinese': 836, 'new': 837, 'grandparents': 838, 'entirely': 839, 'guilted': 840, 'lockdown': 841, 'breakdown': 842, 'pressure': 843, 'luck': 844, 'instantly': 845, 'anyway': 846, 'pcs': 847, 'internet': 848, 'game': 849, 'regular': 850, 'messages': 851, 'downs': 852, 'holding': 853, 'assume': 854, 'irrational': 855, 'reassurance': 856, 'arent': 857, 'anxious': 858, 'medication': 859, 'putting': 860, 'unable': 861, 'calm': 862, 'under': 863, 'pick': 864, 'choose': 865, 'sensitive': 866, 'later': 867, 'courses': 868, 'difficult': 869, 'pills': 870, 'carry': 871, 'deeper': 872, 'totally': 873, 'understood': 874, 'closed': 875, 'relative': 876, 'complain': 877, 'complaining': 878, 'lives': 879, 'paying': 880, 'needs': 881, 'draw': 882, 'attention': 883, 'bf': 884, 'accomplishments': 885, 'cold': 886, 'shelter': 887, 'shield': 888, 'apologize': 889, 'suffered': 890, 'running': 891, 'crazy': 892, 'mistakes': 893, 'roommate': 894, 'belt': 895, 'hungry': 896, 'existing': 897, 'improving': 898, 'overexert': 899, 'daytime': 900, 'evenings': 901, 'nighttime': 902, 'gotta': 903, 'fuss': 904, 'hassle': 905, 'rn': 906, 'serious': 907, 'several': 908, 'majority': 909, 'events': 910, 'happening': 911, 'leading': 912, 'life;': 913, 'shouldve': 914, 'improvised': 915, 'unmotivated': 916, 'sat': 917, 'handcuffs': 918, 'er': 919, '6': 920, 'cooled': 921, 'worker': 922, 'extended': 923, 'county': 924, 'behavioral': 925, 'unit': 926, 'transferred': 927, 'city': 928, 'beds': 929, 'threatened': 930, 'repeated': 931, 'nonverbal': 932, 'cursing': 933, 'behavior': 934, 'spite': 935, 'provider': 936, 'sent': 937, 'representative': 938, 'met': 939, 'spoken': 940, 'recommend': 941, 'sustainment': 942, 'confinement': 943, 'lead': 944, 'deprivation': 945, 'amendment': 946, 'rights': 947, 'lawyer': 948, 'appalled': 949, 'due': 950, 'received': 951, 'forcibly': 952, 'detained': 953, '(the': 954, 'weekend': 955, 'count': 956, 'somehow)': 957, 'frightened': 958, 'disgusted': 959, 'pursue': 960, '\"i': 961, 'important\"': 962, '(i': 963, 'options)': 964, '\"father\"': 965, 'abandoned': 966, '2yo': 967, 'special': 968, 'uncared': 969, 'example': 970, 'acknowledges': 971, 'funny': 972, '\"numb\"': 973, 'dampened': 974, 'mood': 975, 'numbness': 976, '\"i\\'m': 977, 'myself\"': 978, 'term': 979, 'wallowing': 980, 'void': 981, 'aunt': 982, '(someone': 983, 'mother)': 984, 'gives': 985, 'glass': 986, 'interact': 987, 'freshman': 988, 'separate': 989, 'bubble': 990, 'enjoyment': 991, 'autistic': 992, 'college-age': 993, 'male': 994, 'unattractive': 995, 'stopping': 996, \"god's\": 997, 'wrath': 998, 'illegality': 999, 'remarkably': 1000, 'converse': 1001, 'creepy': 1002, 'communication': 1003, 'attractive': 1004, 'guys': 1005, 'brag': 1006, 'popular': 1007, 'sex': 1008, 'money/degrees': 1009, 'viewed': 1010, 'subhuman': 1011, 'looks': 1012, 'taunted': 1013, 'endlessly': 1014, 'insulted': 1015, 'inch': 1016, 'small': 1017, 'penis': 1018, 'compliment': 1019, 'certainly': 1020, 'attracted': 1021, 'choice': 1022, 'cuddle': 1023, 'intimate': 1024, 'angry': 1025, 'universe': 1026, 'emasculated': 1027, \"couldn't\": 1028, 'towards': 1029, 'gravity': 1030, 'win': 1031, 'avoid': 1032, 'write': 1033, 'loveable': 1034, 'reciprocated': 1035, 'conclude': 1036, 'faking': 1037, 'uselessness': 1038, 'incompetencies': 1039, 'growth': 1040, 'perk': 1041, 'teeth': 1042, 'tobacco': 1043, 'pipe': 1044, 'buy': 1045, 'cat': 1046, 'vodka': 1047, 'great': 1048, 'deserved': 1049, 'childhood': 1050, 'manipulated': 1051, 'offended': 1052, 'helps': 1053, 'financial': 1054, 'loosing': 1055, '3': 1056, 'cent': 1057, 'round': 1058, 'girlfriends': 1059, '8': 1060, 'brink': 1061, 'becoming': 1062, 'polyamorous': 1063, 'goddamn': 1064, 'thief': 1065, 'estimate': 1066, 'stole': 1067, '8000': 1068, 'coin': 1069, 'box': 1070, 'gf': 1071, 'woke': 1072, 'jokingly': 1073, 'brush': 1074, 'proof': 1075, 'sits': 1076, 'general': 1077, 'generally': 1078, 'connected': 1079, 'hits': 1080, 'righ': 1081, 'straight': 1082, 'desire': 1083, 'clue': 1084, 'heavy': 1085, '11': 1086, \"should've\": 1087, 'pity': 1088, 'must': 1089, 'peace': 1090, 'ridiculous': 1091, 'scenarios': 1092, \"'saved'\": 1093, 'mend': 1094, 'smart': 1095, 'nah': 1096, 'shy': 1097, '22': 1098, 'fuck-all': 1099, '(out': 1100, 'allowed)': 1101, '2/3': 1102, 'comsci': 1103, 'admittedly': 1104, 'beers': 1105, 'tinder': 1106, 'swipe': 1107, '(whichever': 1108, '\"nope\"': 1109, 'is)': 1110, 'four': 1111, 'agony': 1112, 'core': 1113, 'stemmed': 1114, 'grateful': 1115, 'entitled': 1116, 'sadness;': 1117, 'determined': 1118, 'chemicals': 1119, 'weakness': 1120, 'worthlessness': 1121, 'officially': 1122, 'hating': 1123, 'drug': 1124, 'addicts': 1125, 'anorexic': 1126, 'deserves': 1127, 'recovery': 1128, 'ancient': 1129, 'itself': 1130, 'misunderstood': 1131, 'accomplished': 1132, 'technologically': 1133, 'cars': 1134, 'created': 1135, 'misunderstand': 1136, 'landed': 1137, 'moon': 1138, 'biologically': 1139, 'lightly': 1140, '\"just': 1141, 'positive\"': 1142, '\"praying': 1143, 'you\"': 1144, 'peers': 1145, 'op': 1146, \"one's\": 1147, 'delete': 1148, 'activity': 1149, 'subreddits': 1150, 'comments': 1151, 'value': 1152, 'assertive': 1153, 'decisive': 1154, 'allowing': 1155, 'fake': 1156, '40': 1157, 'lose': 1158, 'fixed': 1159, 'recluse': 1160, 'massive': 1161, 'humiliation': 1162, 'six': 1163, '18': 1164, 'main': 1165, 'yeah': 1166, '\"\"depression\"\"': 1167, '\"\"hard': 1168, 'life\"\"\"\"\"': 1169, 'graduating': 1170, 'university': 1171, 'wage': 1172, 'stressful': 1173, 'junk': 1174, 'cigarettes': 1175, 'late': 1176, 'factors': 1177, 'severely': 1178, 'energy/motivation': 1179, 'cycle': 1180, 'asking': 1181, 'pressurized': 1182, 'drag': 1183, 'dozens': 1184, 'noticeable': 1185, 'results': 1186, 'fatigue': 1187, '13': 1188, 'husbands': 1189, 'anniversary': 1190, 'valentines': 1191, 'hellish': 1192, 'adhd': 1193, 'cut': 1194, 'loves': 1195, 'cookie': 1196, 'cutter': 1197, 'grew': 1198, 'handicapped': 1199, 'incredibly': 1200, 'violent': 1201, 'sibling': 1202, 'relentlessly': 1203, 'hair': 1204, 'teachers': 1205, 'poorly': 1206, 'graduate': 1207, 'salutatorian': 1208, 'repeatedaly': 1209, 'backstabbed': 1210, 'middle': 1211, 'private': 1212, 'perspective': 1213, 'bright': 1214, 'invalidates': 1215, 'complexities': 1216, 'trauma': 1217, 'ugh': 1218, 'internal': 1219, 'war': 1220, 'fought': 1221, 'within': 1222, 'loneliest': 1223, 'planet': 1224, 'lifestyle': 1225, 'staying': 1226, 'bored': 1227, 'environment': 1228, 'strangers': 1229, 'sink': 1230, 'existence': 1231, \"we'll\": 1232, 'cranks': 1233, 'levels': 1234, 'disgraceful': 1235, 'loser': 1236, 'kidding': 1237, 'functional': 1238, 'advantage': 1239, 'impossible': 1240, 'anywhere': 1241, 'jealous': 1242, 'fictional': 1243, 'vibrant': 1244, 'teenage': 1245, 'younger': 1246, 'hey': 1247, 'relate': 1248, 'corona': 1249, 'type': 1250, 'efforts': 1251, 'unappreciated': 1252, 'painless': 1253, 'throughout': 1254, 'eventhough': 1255, 'confessed': 1256, 'devastated': 1257, 'whether': 1258, 'proved': 1259, 'darkest': 1260, 'smile': 1261, 'morning': 1262, 'crack': 1263, 'dawn': 1264, 'attend': 1265, 'comfort': 1266, 'addicted': 1267, 'killers': 1268, 'damaging': 1269, 'medicine': 1270, 'cabinet': 1271, 'subreddit': 1272, 'reminding': 1273, 'disintegrating': 1274, 'consists': 1275, 'fleeting': 1276, 'closing': 1277, 'husband': 1278, 'weekends': 1279, 'spends': 1280, 'playing': 1281, 'pestering': 1282, 'magic': 1283, 'gathering': 1284, 'frequent': 1285, 'scars': 1286, 'arms': 1287, 'sign': 1288, 'change': 1289, 'punch': 1290, 'fuckin': 1291, 'may': 1292, 'possibility': 1293, 'limited': 1294, 'seemed': 1295, 'crater': 1296, 'darkness': 1297, 'grown': 1298, \"could've\": 1299, 'gotten': 1300, 'nightmare': 1301, 'hopelessness': 1302, 'lived': 1303, 'mostly': 1304, 'shop': 1305, 'media': 1306, 'midst': 1307, 'compared': 1308, 'christmas': 1309, 'sound': 1310, 'bitter': 1311, 'footy': 1312, 'team': 1313, \"we're\": 1314, 'gather': 1315, 'takes': 1316, 'isolated': 1317, 'mates': 1318, 'committed': 1319, 'third': 1320, 'grade': 1321, 'lows': 1322, 'bear': 1323, 'terrify': 1324, 'artificial': 1325, 'hostile': 1326, 'act': 1327, 'fills': 1328, 'insurmountable': 1329, 'relentless': 1330, \"'good\": 1331, \"nothing'\": 1332, 'looser': 1333, 'y': 1334, 'loose': 1335, 'fill': 1336, 'tomorrow': 1337, 'row': 1338, 'thesis': 1339, 'crush': 1340, 'painful': 1341, 'allowed': 1342, 'seventeen': 1343, 'advise': 1344, 'five': 1345, 'stems': 1346, 'genetics': 1347, 'result': 1348, 'bipolar': 1349, 'manic': 1350, 'meds': 1351, 'closest': 1352, 'typical': 1353, 'terrified': 1354, 'waking': 1355, 'psychiatrist': 1356, 'surprise': 1357, 'digest': 1358, 'realised': 1359, 'winter': 1360, 'uncomfortable': 1361, 'ish': 1362, 'moments': 1363, 'happened': 1364, 'episode': 1365, 'neglecting': 1366, 'coward': 1367, 'extraordinary': 1368, 'figured': 1369, 'summer': 1370, 'common': 1371, 'knowledge': 1372, 'risking': 1373, 'differently': 1374, 'sworn': 1375, 'thankful': 1376, 'pretend': 1377, 'teased': 1378, 'honest': 1379, 'cook': 1380, 'lunch': 1381, 'release': 1382, 'snack': 1383, 'fight': 1384, 'changed': 1385, 'lonelier': 1386, 'cripplingly': 1387, 'battle': 1388, 'ends': 1389, 'fast': 1390, 'risk': 1391, 'considered': 1392, 'obvious': 1393, 'kinds': 1394, 'guilt': 1395, 'letting': 1396, 'pulling': 1397, 'moms': 1398, 'manager': 1399, 'further': 1400, 'notice': 1401, 'luckily': 1402, 'understanding': 1403, 'contribute': 1404, 'brought': 1405, 'proceeds': 1406, 'bunch': 1407, 'pin': 1408, 'switching': 1409, 'dime': 1410, 'attacking': 1411, 'calling': 1412, 'liar': 1413, 'cussing': 1414, 'permission': 1415, 'libido': 1416, 'programmed': 1417, 'destruct': 1418, 'faulty': 1419, 'wiring': 1420, 'movies': 1421, 'excites': 1422, 'somebody': 1423, 'hit': 1424, 'expressing': 1425, 'fed': 1426, 'internally': 1427, 'conflicted': 1428, 'confined': 1429, 'homophobic': 1430, 'russia': 1431, 'visit': 1432, 'furry': 1433, 'conventions': 1434, 'misery': 1435, 'dollars': 1436, 'unbearable': 1437, 'freedom': 1438, 'jail': 1439, 'tips': 1440, 'slowly': 1441, 'erase': 1442, 'everybodys': 1443, 'eternal': 1444, 'coma': 1445, 'send': 1446, 'traveled': 1447, 'hobby': 1448, 'epiphanies': 1449, 'searching': 1450, 'content': 1451, 'history': 1452, 'children': 1453, 'bit': 1454, 'insecure': 1455, 'wreck': 1456, 'toward': 1457, 'insults': 1458, 'arguing': 1459, 'silly': 1460, 'sharing': 1461, 'express': 1462, 'unite': 1463, 'fellow': 1464, 'outlook': 1465, 'hearth': 1466, 'judge': 1467, 'shatter': 1468, 'compassion': 1469, 'expensive': 1470, 'hangout': 1471, 'commented': 1472, 'platform': 1473, 'm': 1474, 'absent': 1475, 'drifting': 1476, 'dilemma': 1477, 'rips': 1478, 'muster': 1479, 'courage': 1480, 'japanese': 1481, 'raised': 1482, 'jersey': 1483, 'speak': 1484, 'identity': 1485, 'disappointed': 1486, 'asked': 1487, 'facetime': 1488, 'overseas': 1489, 'hospitalized': 1490, 'backgrounds': 1491, 'ignored': 1492, 'culture': 1493, 'reflection': 1494, 'argument': 1495, 'regret': 1496, 'refusing': 1497, 'screams': 1498, 'shouts': 1499, 'eaten': 1500, 'shout': 1501, 'bathroom': 1502, 'pass': 1503, 'deadlines': 1504, 'halls': 1505, 'miles': 1506, 'ban': 1507, 'non': 1508, 'essential': 1509, 'travel': 1510, 'uk': 1511, 'keeping': 1512, 'overdosing': 1513, 'overworked': 1514, 'add': 1515, 'punching': 1516, 'bag': 1517, 'leads': 1518, 'asshole': 1519, 'ate': 1520, 'bat': 1521, 'soup': 1522, 'stretching': 1523, 'formless': 1524, 'remain': 1525, 'fall': 1526, 'despair': 1527, 'encourage': 1528, 'step': 1529, 'concerned': 1530, 'partially': 1531, 'options': 1532, 'three': 1533, 'consistent': 1534, 'picking': 1535, 'pieces': 1536, 'desktop': 1537, 'date': 1538, 'hardly': 1539, 'surprisingly': 1540, 'responsible': 1541, 'lowest': 1542, 'settings': 1543, 'nearly': 1544, 'vr': 1545, 'posters': 1546, 'whim': 1547, 'electronics': 1548, 'tech': 1549, 'touch': 1550, 'installing': 1551, 'linux': 1552, 'bloatware': 1553, 'traits': 1554, 'muted': 1555, 'noticing': 1556, 'relationships': 1557, 'sticks': 1558, 'interactions': 1559, 'stomach': 1560, 'disappear': 1561, 'loathe': 1562, 'present': 1563, 'trait': 1564, 'states': 1565, 'wife': 1566, 'bbqs': 1567, 'scouts': 1568, 'pressing': 1569, 'homework': 1570, 'walking': 1571, 'music': 1572, 'smiling': 1573, 'remind': 1574, 'swear': 1575, 'caring': 1576, 'unfair': 1577, 'practice': 1578, 'distancing': 1579, 'convinces': 1580, 'actual': 1581, 'conflict': 1582, 'between': 1583, 'anybody': 1584, 'short': 1585, 'extremely': 1586, 'catch': 1587, 'random': 1588, 'symptoms': 1589, 'isolating': 1590, 'generalized': 1591, 'bless': 1592, 'intense': 1593, 'numbered': 1594, 'news': 1595, 'lists': 1596, 'forcing': 1597, 'simple': 1598, 'steps': 1599, 'none': 1600, 'herself': 1601, \"isn't\": 1602, 'vulnerable': 1603, 'comfortable': 1604, 'whisper': 1605, 'immediately': 1606, 'tightness': 1607, 'contributing': 1608, 'gross': 1609, 'eavesdrop': 1610, 'lounging': 1611, 'housework': 1612, 'suggested': 1613, 'watched': 1614, 'bedtime': 1615, 'nervous': 1616, 'online': 1617, 'ridiculously': 1618, 'track': 1619, 'cathartic': 1620, 'situation': 1621, 'sapped': 1622, 'solve': 1623, 'throw': 1624, 'list': 1625, 'case': 1626, 'coping': 1627, 'mechanisms': 1628, \"they'd\": 1629, 'elaborate': 1630, 'questions': 1631, 'slip': 1632, 'insanely': 1633, 'slipping': 1634, 'obsession': 1635, 'disordered': 1636, 'grandchild': 1637, 'contacting': 1638, \"grandma's\": 1639, 'birthday': 1640, 'contact': 1641, 'consistently': 1642, 'friendships': 1643, 'lapsed': 1644, 'verge': 1645, 'complete': 1646, 'bitchy': 1647, 'ton': 1648, 'skateboarding': 1649, 'knew': 1650, 'works': 1651, 'bitch': 1652, 'killed': 1653, 'shoot': 1654, 'brains': 1655, 'clean': 1656, 'swallow': 1657, 'image': 1658, 'dearly': 1659, 'subject': 1660, 'basically': 1661, 'means': 1662, 'motivate': 1663, 'productive': 1664, 'effort': 1665, 'disappointing': 1666, 'sinking': 1667, 'nothingness': 1668, 'easy': 1669, 'rebellious': 1670, 'harming': 1671, 'activites': 1672, 'turns': 1673, 'dealed': 1674, 'period': 1675, 'frends': 1676, 'test': 1677, 'harm': 1678, 'realization': 1679, 'persons': 1680, 'aching': 1681, 'rough': 1682, 'hateful': 1683, 'voice': 1684, 'artwork': 1685, 'super': 1686, 'failed': 1687, 'paradox': 1688, 'mess': 1689, 'survive': 1690, 'survival': 1691, 'mode': 1692, 'extreme': 1693, 'da': 1694, 'costas': 1695, 'syndrome': 1696, 'muscle': 1697, 'twitching': 1698, 'trigger': 1699, 'mainly': 1700, 'medicaid': 1701, 'quality': 1702, 'coupled': 1703, 'busy': 1704, 'weed': 1705, 'cleaning': 1706, 'bug': 1707, 'wont': 1708, 'answer': 1709, 'texting': 1710, 'likely': 1711, 'surely': 1712, 'coronavirus': 1713, 'cool': 1714, 'forever': 1715, 'patience': 1716, 'abandoning': 1717, 'government': 1718, 'rent': 1719, 'ungrateful': 1720, 'occupy': 1721, 'space': 1722, 'fiancee': 1723, 'helpful': 1724, 'tiny': 1725, 'flatmates': 1726, 'kitchen': 1727, 'annoys': 1728, 'psychological': 1729, 'success': 1730, 'ramming': 1731, 'excuses': 1732, 'responsibilities': 1733, 'drew': 1734, 'carrying': 1735, 'hiding': 1736, 'toxic': 1737, 'negativity': 1738, 'overreacting': 1739, 'personally': 1740, 'passive': 1741, 'suicidality': 1742, 'leaves': 1743, 'immune': 1744, 'texts': 1745, 'calls': 1746, \"depression's\": 1747, 'eachother': 1748, \"'bravo\": 1749, 'decisions': 1750, 'abusing': 1751, 'multiple': 1752, 'tbh': 1753, 'yes': 1754, 'brushed': 1755, \"'i\": 1756, \"overdose'\": 1757, \"everything's\": 1758, 'acting': 1759, 'despises': 1760, 'zero': 1761, 'survived': 1762, 'thus': 1763, 'shadows': 1764, 'pianois': 1765, 'academicaly': 1766, 'above': 1767, 'isnt': 1768, 'deaf': 1769, 'kicks': 1770, 'karate': 1771, 'frankenstein': 1772, 'patch': 1773, 'operations': 1774, \"they'll\": 1775, 'ways': 1776, 'ignore': 1777, 'belong': 1778, 'welcome': 1779, 'circle': 1780, 'everywhere': 1781, 'behave': 1782, 'ignoring': 1783, 'everytime': 1784, 'strike': 1785, 'conversation': 1786, 'question': 1787, 'behaviour': 1788, 'meaningful': 1789, 'bond': 1790, \"that'll\": 1791, 'ideation': 1792, 'chronic': 1793, 'complex': 1794, 'ptsd': 1795, 'load': 1796, 'dropping': 1797, 'fit': 1798, 'staring': 1799, 'blankly': 1800, 'wall': 1801, 'contemplate': 1802, 'rather': 1803, 'banned': 1804, 'minor': 1805, 'bombarded': 1806, 'lesser': 1807, 'loudly': 1808, 'paused': 1809, 'studies': 1810, 'drink': 1811, 'coffee': 1812, 'rollercoaster': 1813, 'screeching': 1814, 'halt': 1815, 'topic': 1816, 'dangerous': 1817, 'explain': 1818, 'distracted': 1819, 'traumas': 1820, 'braid': 1821, 'grass': 1822, \"'have\": 1823, 'necessary': 1824, \"distraction'\": 1825, 'continued': 1826, 'rant': 1827, 'quote': 1828, 'sleeping': 1829, 'however': 1830, 'toxicity': 1831, 'exposure': 1832, 'daughter': 1833, 'presence': 1834, 'concern': 1835, 'science': 1836, 'experiment': 1837, 'striving': 1838, 'bigger': 1839, 'breathe': 1840, 'today': 1841, 'mirror': 1842, 'recognize': 1843, 'eyes': 1844, 'compliments': 1845, 'coexist': 1846, 'monsters': 1847, 'decent': 1848, 'serving': 1849, 'harsh': 1850, 'considering': 1851, 'statistics': 1852, 'unless': 1853, 'folks': 1854, 'motions': 1855, 'consider': 1856, 'inflict': 1857, 'whent': 1858, 'expected': 1859, 'mindlessly': 1860, 'tetris': 1861, 'antidepressants': 1862, 'fell': 1863, 'wagon': 1864, 'sunk': 1865, 'mindless': 1866, 'tasks': 1867, 'student': 1868, 'loans': 1869, 'latch': 1870, 'onto': 1871, 'comes': 1872, 'warning': 1873, 'surrounded': 1874, 'whoever': 1875, 'monster': 1876, 'battling': 1877, 'undetermined': 1878, 'amount': 1879, 'destroying': 1880, 'whats': 1881, 'smallest': 1882, 'youll': 1883, 'taken': 1884, 'blames': 1885, 'babies': 1886, 'cries': 1887, 'freak': 1888, 'videos': 1889, 'embarrassment': 1890, 'roads': 1891, 'muscles': 1892, 'shallow': 1893, 'respect': 1894, 'genuine': 1895, 'talks': 1896, 'chances': 1897, 'beg': 1898, 'accepted': 1899, 'vent': 1900, 'hoping': 1901, 'slumped': 1902, 'majorly': 1903, 'pee': 1904, 'showered': 1905, 'crutch': 1906, 'statement': 1907, 'dirt': 1908, 'ultimate': 1909, 'goal': 1910, 'beginning': 1911, 'memories': 1912, 'distance': 1913, 'gunna': 1914, 'accuse': 1915, 'drinking': 1916, 'cooler': 1917, 'hed': 1918, 'previously': 1919, 'invite': 1920, 'shouldnt': 1921, 'wondering': 1922, 'sudden': 1923, 'convinced': 1924, 'note': 1925, 'picture': 1926, 'naturally': 1927, 'selfishness': 1928, 'natural': 1929, 'doubt': 1930, 'escaping': 1931, 'rinse': 1932, 'itd': 1933, 'sort': 1934, 'sadly': 1935, 'advance': 1936, 'healthy': 1937, 'everyones': 1938, 'distract': 1939, 'fade': 1940, 'ready': 1941, 'therapist': 1942, 'blessed': 1943, 'amazing': 1944, 'features': 1945, 'horribly': 1946, 'dumped': 1947, 'rid': 1948, 'flake': 1949, 'hibernate': 1950, 'plans': 1951, 'follow': 1952, 'tougher': 1953, 'choosing': 1954, 'screwing': 1955, 'buddy': 1956, 'forgive': 1957, 'friendship': 1958, 'kinesthetic': 1959, 'hands': 1960, 'memorizing': 1961, 'lectures': 1962, 'promising': 1963, 'programming': 1964, 'certifications': 1965, 'hunting': 1966, 'crippled': 1967, 'moreso': 1968, \"it'd\": 1969, 'require': 1970, 'course': 1971, 'remote': 1972, 'significant': 1973, 'ups': 1974, 'sceptical': 1975, 'wikipedia': 1976, 'article': 1977, 'realise': 1978, 'accurate': 1979, 'title': 1980, 'quickly': 1981, 'hang': 1982, 'young': 1983, 'slow': 1984, 'reinforcement': 1985, 'sats': 1986, 'memory': 1987, 'quite': 1988, 'esteem': 1989, 'proven': 1990, 'geniuses': 1991, 'causing': 1992, 'outsmarted': 1993, 'age': 1994, 'hurting': 1995, 'tub': 1996, 'bottle': 1997, 'cheap': 1998, 'red': 1999, 'wine': 2000, 'ambitions': 2001, 'goals': 2002, 'unlovable': 2003, 'unsuccessful': 2004, 'monday': 2005, 'curfew': 2006, 'everythings': 2007}\n"
          ],
          "name": "stdout"
        }
      ]
    },
    {
      "cell_type": "code",
      "metadata": {
        "id": "txqajQMCjCQ_",
        "colab_type": "code",
        "outputId": "f09ac6f9-d544-44af-c08a-8132de430b04",
        "colab": {
          "base_uri": "https://localhost:8080/",
          "height": 54
        }
      },
      "source": [
        "from google.colab import drive\n",
        "from numpy import array\n",
        "from numpy import asarray\n",
        "from numpy import zeros\n",
        "#Loading embedding file into memory\n",
        "print('Indexing word vectors.')\n",
        "\n",
        "embeddings_index = {}\n",
        "f = open('/content/drive/My Drive/glove.6B/glove.6B.300d.txt')\n",
        "for line in f:\n",
        "    values = line.split()\n",
        "    word = values[0]\n",
        "    vec = np.asarray(values[1:], dtype='float32')\n",
        "    embeddings_index[word] = vec\n",
        "f.close()\n",
        "\n",
        "print('Found %s word vectors.' % len(embeddings_index))\n"
      ],
      "execution_count": 12,
      "outputs": [
        {
          "output_type": "stream",
          "text": [
            "Indexing word vectors.\n",
            "Found 400000 word vectors.\n"
          ],
          "name": "stdout"
        }
      ]
    },
    {
      "cell_type": "code",
      "metadata": {
        "id": "kuC1Dp7JL4Qy",
        "colab_type": "code",
        "colab": {}
      },
      "source": [
        "embedding_matrix  = zeros((vocab_size,300))\n",
        "for word, i in t.word_index.items():\n",
        "  embedding_vector = embeddings_index.get(word)\n",
        "  if embedding_vector is not None:\n",
        "    embedding_matrix[i] = embedding_vector\n"
      ],
      "execution_count": 0,
      "outputs": []
    },
    {
      "cell_type": "markdown",
      "metadata": {
        "id": "ltMJ72ecmWeS",
        "colab_type": "text"
      },
      "source": [
        "Building a model for use with Keras Tuner,\n",
        "Restart before using model.fit as it appears to interfere with it\n"
      ]
    },
    {
      "cell_type": "code",
      "metadata": {
        "id": "psuaaRo7pB1V",
        "colab_type": "code",
        "colab": {}
      },
      "source": [
        "'''import kerastuner as kt\n",
        "\n",
        "def build_tuner_model(hp):\n",
        "\n",
        "  embedding_dim = 300\n",
        "  \n",
        "  inputs=Input(shape=(max_words,))\n",
        "  x = inputs\n",
        "  x = Embedding(vocab_size,embedding_dim, weights=[embedding_matrix],input_length=max_words,trainable=False)(x)\n",
        "  \n",
        "  x = Bidirectional((GRU(hp.Int('lstmunits',100,300,step=50),activation='tanh',return_sequences = True)))(x)\n",
        "\n",
        "  a = Dense(1,activation='tanh')(x)\n",
        "  a = Activation('softmax', name='attention_vec')(x)\n",
        "  x = Dot(axes=1)([x, a])\n",
        "\n",
        "  x = Bidirectional((GRU(hp.Int('lstmunits',50,150,step=25),activation='tanh',return_sequences = False)))(x)\n",
        "\n",
        "  x = Dropout(hp.Float('dropout',0.1,0.5,step=0.1,default=0.5))(x)\n",
        "\n",
        "  x = Dense(hp.Int('fc units',100,200,step=10, default=100), activation='relu')(x)\n",
        "  x = Dropout(hp.Float('dropout2', 0.1, 0.5, step=0.1, default=0.5))(x)\n",
        "  outputs = Dense(len(label2id), activation = 'softmax')(x)\n",
        "\n",
        "  model = Model(inputs = [inputs], outputs=outputs)\n",
        "  model.compile(optimizer=tf.keras.optimizers.Adam(\n",
        "                hp.Float('learning_rate', 1e-4, 1e-2, sampling='log')),\n",
        "                loss='categorical_crossentropy',\n",
        "                metrics=['accuracy'])\n",
        "  return model'''"
      ],
      "execution_count": 0,
      "outputs": []
    },
    {
      "cell_type": "markdown",
      "metadata": {
        "id": "zknpIcfjmbtu",
        "colab_type": "text"
      },
      "source": [
        "Model function "
      ]
    },
    {
      "cell_type": "code",
      "metadata": {
        "id": "KsstcXNJFx58",
        "colab_type": "code",
        "colab": {}
      },
      "source": [
        "\n",
        "def createmodel():\n",
        "  embedding_dim = 300\n",
        "\n",
        "  inputs=Input(shape=(max_words,),dtype='int32')\n",
        "\n",
        "\n",
        "  xx = Embedding(vocab_size,embedding_dim, weights=[embedding_matrix],input_length=max_words,trainable=False)(inputs)\n",
        "  xx = Bidirectional((GRU(300,activation='tanh',return_sequences = True)))(xx)\n",
        "\n",
        "  av = Dense(1,activation='tanh')(xx)\n",
        "  av = Activation('softmax', name='attention_vec')(av)\n",
        "  aa = Dot(axes=1)([xx, av])\n",
        "  \n",
        "  xx = Bidirectional((GRU(100,activation='tanh',return_sequences=False)))(aa)\n",
        "\n",
        "  dr = Dropout(0.3)(xx)\n",
        "\n",
        "  fc = Dense(160, activation='relu')(dr)\n",
        "  dr = Dropout(0.1)(fc)\n",
        "  out = Dense(len(label2id), activation = 'softmax')(dr)\n",
        "\n",
        "  model = Model(inputs = [inputs], outputs = out)\n",
        "  model.compile(optimizer=tf.keras.optimizers.Adam(0.004370187549970498),\n",
        "                loss='categorical_crossentropy',\n",
        "                metrics=['accuracy',tf.keras.metrics.Recall(),\n",
        "                        tf.keras.metrics.Precision(),])\n",
        "  model.summary()\n",
        "\n",
        "  return model"
      ],
      "execution_count": 0,
      "outputs": []
    },
    {
      "cell_type": "code",
      "metadata": {
        "id": "hdyzaOLRAuIa",
        "colab_type": "code",
        "colab": {}
      },
      "source": [
        "#Callbacks\n",
        "def scheduler(epoch):\n",
        "  if epoch < 20:\n",
        "    return 0.001\n",
        "  else:\n",
        "    return 0.001 * tf.math.exp(0.1 * (10 - epoch))\n",
        "\n",
        "best_epoch = 'weights.{epoch:02d}-{val_accuracy:.2f}.hdf5'\n",
        "checkpoint =  tf.keras.callbacks.ModelCheckpoint(filepath=best_epoch, monitor='val_accuracy',save_best_only=True,mode='max')\n",
        "scheduler_callback = tf.keras.callbacks.LearningRateScheduler(scheduler)\n",
        "earlystop = tf.keras.callbacks.EarlyStopping(monitor='val_accuracy', patience=10, mode=\"max\")\n",
        "callbacks = [earlystop,checkpoint]\n"
      ],
      "execution_count": 0,
      "outputs": []
    },
    {
      "cell_type": "code",
      "metadata": {
        "id": "qAXPm9xViPN5",
        "colab_type": "code",
        "colab": {}
      },
      "source": [
        "test_split = 650\n",
        "X_train=padded_data[:test_split]\n",
        "Y_train=Y[:test_split]\n",
        "X_test=padded_data[test_split+1:]\n",
        "Y_test=Y[test_split+1:] "
      ],
      "execution_count": 0,
      "outputs": []
    },
    {
      "cell_type": "markdown",
      "metadata": {
        "id": "L4Y3ibbMlhse",
        "colab_type": "text"
      },
      "source": [
        "Hyperband Tuning.Skip this if parameters are already tuned"
      ]
    },
    {
      "cell_type": "code",
      "metadata": {
        "id": "ImfWB-Fzh-E2",
        "colab_type": "code",
        "colab": {}
      },
      "source": [
        "'''tuner = kt.Hyperband(\n",
        "    build_tuner_model,\n",
        "    objective='val_accuracy',\n",
        "    max_epochs=30,\n",
        "    hyperband_iterations=10,\n",
        "    project_name='test2')\n",
        "'''"
      ],
      "execution_count": 0,
      "outputs": []
    },
    {
      "cell_type": "code",
      "metadata": {
        "id": "q-5VwnsQirad",
        "colab_type": "code",
        "colab": {}
      },
      "source": [
        "'''tuner.search(X_train,Y_train,\n",
        "             validation_split=0.5,\n",
        "             shuffle = True,\n",
        "             epochs=30,\n",
        "             callbacks=[earlystop])\n",
        "'''"
      ],
      "execution_count": 0,
      "outputs": []
    },
    {
      "cell_type": "code",
      "metadata": {
        "colab_type": "code",
        "id": "uRrR75Vu60bB",
        "colab": {}
      },
      "source": [
        "'''best_hyperparameters = tuner.get_best_hyperparameters(1)[0]\n",
        "print(best_hyperparameters)\n",
        "'''"
      ],
      "execution_count": 0,
      "outputs": []
    },
    {
      "cell_type": "markdown",
      "metadata": {
        "id": "gNPOjSdSmGu2",
        "colab_type": "text"
      },
      "source": [
        "Real model training."
      ]
    },
    {
      "cell_type": "code",
      "metadata": {
        "colab_type": "code",
        "id": "6IFyV-O8NWdV",
        "colab": {}
      },
      "source": [
        "model = createmodel()\n",
        "history = model.fit(X_train,Y_train, epochs=100, batch_size=128, validation_split=0.2, shuffle=True, callbacks=callbacks)\n"
      ],
      "execution_count": 0,
      "outputs": []
    },
    {
      "cell_type": "code",
      "metadata": {
        "id": "_WhiaoNjcjXz",
        "colab_type": "code",
        "colab": {}
      },
      "source": [
        "#converting Y_test from one hot encoding for sklearn classification_report\n",
        "Y_onehot = Y_test.tolist()\n",
        "Y_true=[]\n",
        "\n",
        "for items in Y_onehot:\n",
        "  i=0\n",
        "  for item in items: \n",
        "    if item == 1:\n",
        "      Y_true.append(i)\n",
        "      \n",
        "    else:\n",
        "      i+=1"
      ],
      "execution_count": 0,
      "outputs": []
    },
    {
      "cell_type": "code",
      "metadata": {
        "id": "Y3dYiOnLUqDm",
        "colab_type": "code",
        "colab": {}
      },
      "source": [
        "#Loading the weights from the best epoch\n",
        "#model.load_weights('/content/weights.09-0.37.hdf5')\n",
        "\n",
        "preds=model.predict(X_test, batch_size=32, verbose=1)\n",
        "pred_classes = np.argmax(preds,axis=1)\n",
        "labels = ['sadness','disappointment','suffering','shame','neglect','sympathy']\n",
        "print(classification_report(Y_true,pred_classes,labels=[0,1,2,3,4,5,6],target_names=labels,digits=4))"
      ],
      "execution_count": 0,
      "outputs": []
    },
    {
      "cell_type": "code",
      "metadata": {
        "id": "kLOLuGlPlXaA",
        "colab_type": "code",
        "colab": {}
      },
      "source": [
        "tf.keras.utils.plot_model(createmodel(), show_shapes=True, show_layer_names=True, to_file='model.png')"
      ],
      "execution_count": 0,
      "outputs": []
    },
    {
      "cell_type": "code",
      "metadata": {
        "id": "5bKJiD-7OAiO",
        "colab_type": "code",
        "colab": {
          "base_uri": "https://localhost:8080/",
          "height": 246
        },
        "outputId": "bb1fffb1-16a7-484a-92d2-60959dc65c0c"
      },
      "source": [
        "import matplotlib.pyplot as plt\n",
        "\n",
        "# Plot training & validation accuracy values\n",
        "plt.plot(history.history['accuracy'])\n",
        "plt.plot(history.history['val_accuracy'])\n",
        "plt.title('Bi-LSTM Accuracy')\n",
        "plt.ylabel('Accuracy')\n",
        "plt.xlabel('Epoch')\n",
        "plt.legend(['Train', 'Test'], loc='upper left')\n",
        "plt.show()\n",
        "\n",
        "# Plot training & validation loss values\n",
        "plt.plot(history.history['loss'])\n",
        "plt.plot(history.history['val_loss'])\n",
        "plt.title('Bi-LSTM loss')\n",
        "plt.ylabel('Loss')\n",
        "plt.xlabel('Epoch')\n",
        "plt.legend(['Train', 'Test'], loc='upper left')\n",
        "plt.show()\n",
        "\n"
      ],
      "execution_count": 38,
      "outputs": [
        {
          "output_type": "error",
          "ename": "NameError",
          "evalue": "ignored",
          "traceback": [
            "\u001b[0;31m---------------------------------------------------------------------------\u001b[0m",
            "\u001b[0;31mNameError\u001b[0m                                 Traceback (most recent call last)",
            "\u001b[0;32m<ipython-input-38-94ff3bbeba03>\u001b[0m in \u001b[0;36m<module>\u001b[0;34m()\u001b[0m\n\u001b[1;32m      2\u001b[0m \u001b[0;34m\u001b[0m\u001b[0m\n\u001b[1;32m      3\u001b[0m \u001b[0;31m# Plot training & validation accuracy values\u001b[0m\u001b[0;34m\u001b[0m\u001b[0;34m\u001b[0m\u001b[0;34m\u001b[0m\u001b[0m\n\u001b[0;32m----> 4\u001b[0;31m \u001b[0mplt\u001b[0m\u001b[0;34m.\u001b[0m\u001b[0mplot\u001b[0m\u001b[0;34m(\u001b[0m\u001b[0mhistory\u001b[0m\u001b[0;34m.\u001b[0m\u001b[0mhistory\u001b[0m\u001b[0;34m[\u001b[0m\u001b[0;34m'accuracy'\u001b[0m\u001b[0;34m]\u001b[0m\u001b[0;34m)\u001b[0m\u001b[0;34m\u001b[0m\u001b[0;34m\u001b[0m\u001b[0m\n\u001b[0m\u001b[1;32m      5\u001b[0m \u001b[0mplt\u001b[0m\u001b[0;34m.\u001b[0m\u001b[0mplot\u001b[0m\u001b[0;34m(\u001b[0m\u001b[0mhistory\u001b[0m\u001b[0;34m.\u001b[0m\u001b[0mhistory\u001b[0m\u001b[0;34m[\u001b[0m\u001b[0;34m'val_accuracy'\u001b[0m\u001b[0;34m]\u001b[0m\u001b[0;34m)\u001b[0m\u001b[0;34m\u001b[0m\u001b[0;34m\u001b[0m\u001b[0m\n\u001b[1;32m      6\u001b[0m \u001b[0mplt\u001b[0m\u001b[0;34m.\u001b[0m\u001b[0mtitle\u001b[0m\u001b[0;34m(\u001b[0m\u001b[0;34m'Bi-LSTM + CNN Accuracy'\u001b[0m\u001b[0;34m)\u001b[0m\u001b[0;34m\u001b[0m\u001b[0;34m\u001b[0m\u001b[0m\n",
            "\u001b[0;31mNameError\u001b[0m: name 'history' is not defined"
          ]
        }
      ]
    },
    {
      "cell_type": "code",
      "metadata": {
        "id": "Q6Z3FBTdUlbt",
        "colab_type": "code",
        "colab": {
          "base_uri": "https://localhost:8080/",
          "height": 72
        },
        "outputId": "b757c3e6-9318-48d2-c7bb-7d30237c1611"
      },
      "source": [
        "test_split = 650\n",
        "\n",
        "labels = df[\"emotion\"].values.tolist()\n",
        "newpreds = [id2label[item] for item in pred_classes]\n",
        "print(len(newpreds))\n",
        "print(len(labels[test_split+1:]))\n",
        "text=df[\"text\"][test_split+1:].tolist()\n",
        "print(len(text))\n",
        "data = {'Text':text, 'Classification':labels[test_split+1:], 'Prediction': newpreds} \n",
        "newdf = pd.DataFrame(data)\n",
        "newdf.to_csv(\"predscnn.csv\")"
      ],
      "execution_count": 39,
      "outputs": [
        {
          "output_type": "stream",
          "text": [
            "227\n",
            "227\n",
            "227\n"
          ],
          "name": "stdout"
        }
      ]
    },
    {
      "cell_type": "code",
      "metadata": {
        "id": "82_O2HlbUtpe",
        "colab_type": "code",
        "colab": {}
      },
      "source": [
        ""
      ],
      "execution_count": 0,
      "outputs": []
    }
  ]
}